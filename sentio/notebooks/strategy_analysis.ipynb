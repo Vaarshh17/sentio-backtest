{
 "cells": [
  {
   "cell_type": "code",
   "execution_count": null,
   "id": "44543355",
   "metadata": {
    "vscode": {
     "languageId": "plaintext"
    }
   },
   "outputs": [],
   "source": [
    "%matplotlib inline\n",
    "import pandas as pd\n",
    "import numpy as np\n",
    "import matplotlib.pyplot as plt\n",
    "import seaborn as sns\n",
    "from datetime import datetime, timedelta\n"
   ]
  },
  {
   "cell_type": "code",
   "execution_count": null,
   "id": "57fec4c1",
   "metadata": {
    "vscode": {
     "languageId": "plaintext"
    }
   },
   "outputs": [],
   "source": [
    "# Import sentio modules\n",
    "import sys\n",
    "sys.path.append('../')  # Add parent directory to path\n",
    "from sentio.core.backtest_engine import BacktestEngine\n",
    "from sentio.data.crypto_quant_source import CryptoQuantSource\n",
    "from sentio.strategy.hmm_strategy import HMMStrategy\n",
    "from sentio.strategy.emotional_analysis_strategy import EmotionalAnalysisStrategy\n",
    "from sentio.strategy.composite_strategy import CompositeStrategy"
   ]
  },
  {
   "cell_type": "code",
   "execution_count": null,
   "id": "44783da1",
   "metadata": {
    "vscode": {
     "languageId": "plaintext"
    }
   },
   "outputs": [],
   "source": [
    "# Initialize components\n",
    "engine = BacktestEngine()\n",
    "engine.configure_environment({\n",
    "    'initial_capital': 100000,\n",
    "    'commission_rate': 0.0006,\n",
    "    'slippage': 0.0002\n",
    "})"
   ]
  },
  {
   "cell_type": "code",
   "execution_count": null,
   "id": "3ab4cd2e",
   "metadata": {
    "vscode": {
     "languageId": "plaintext"
    }
   },
   "outputs": [],
   "source": [
    "crypto_quant = CryptoQuantSource(api_key='Qb4fOizGZQo81YYQaRmQhnpq5KzJG3uE9Q9Hfbp4CoEAjKuc', asset='btc', interval='1h')\n",
    "engine.add_data_source('crypto_quant', crypto_quant)"
   ]
  }
 ],
 "metadata": {
  "language_info": {
   "name": "python"
  }
 },
 "nbformat": 4,
 "nbformat_minor": 5
}
